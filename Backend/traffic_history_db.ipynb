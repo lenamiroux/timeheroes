{
 "cells": [
  {
   "cell_type": "code",
   "execution_count": 109,
   "metadata": {},
   "outputs": [],
   "source": [
    "import pandas as pd\n",
    "import math\n",
    "import random\n",
    "import numpy as np\n",
    "import datetime"
   ]
  },
  {
   "cell_type": "code",
   "execution_count": 124,
   "metadata": {},
   "outputs": [],
   "source": [
    "mean_traffic = pd.DataFrame(columns = ['week_key', 'week_day', 'time', 'mean_delay_time', 'mean_person'])"
   ]
  },
  {
   "cell_type": "code",
   "execution_count": 125,
   "metadata": {},
   "outputs": [
    {
     "data": {
      "text/html": [
       "<div>\n",
       "<style scoped>\n",
       "    .dataframe tbody tr th:only-of-type {\n",
       "        vertical-align: middle;\n",
       "    }\n",
       "\n",
       "    .dataframe tbody tr th {\n",
       "        vertical-align: top;\n",
       "    }\n",
       "\n",
       "    .dataframe thead th {\n",
       "        text-align: right;\n",
       "    }\n",
       "</style>\n",
       "<table border=\"1\" class=\"dataframe\">\n",
       "  <thead>\n",
       "    <tr style=\"text-align: right;\">\n",
       "      <th></th>\n",
       "      <th>week_key</th>\n",
       "      <th>week_day</th>\n",
       "      <th>time</th>\n",
       "      <th>mean_delay_time</th>\n",
       "      <th>mean_person</th>\n",
       "    </tr>\n",
       "  </thead>\n",
       "  <tbody>\n",
       "  </tbody>\n",
       "</table>\n",
       "</div>"
      ],
      "text/plain": [
       "Empty DataFrame\n",
       "Columns: [week_key, week_day, time, mean_delay_time, mean_person]\n",
       "Index: []"
      ]
     },
     "execution_count": 125,
     "metadata": {},
     "output_type": "execute_result"
    }
   ],
   "source": [
    "mean_traffic"
   ]
  },
  {
   "cell_type": "code",
   "execution_count": 126,
   "metadata": {},
   "outputs": [],
   "source": [
    "sin_distribution = []\n",
    "for x in range(0, 16, 1):\n",
    "    sin_distribution.append(math.sin(x / 16 * math.pi))"
   ]
  },
  {
   "cell_type": "code",
   "execution_count": 127,
   "metadata": {},
   "outputs": [],
   "source": [
    "distribution_person = np.array([0.5, 1, 2, 4, 5, 7.5, 10, 20, 20, 10, 7.5, 5, 4, 2, 1, 0.5]) / 100"
   ]
  },
  {
   "cell_type": "code",
   "execution_count": 128,
   "metadata": {},
   "outputs": [],
   "source": [
    "week_days = ['sunday', 'monday', 'tuesday', 'wednesday', 'thursday', 'friday', 'saturday']"
   ]
  },
  {
   "cell_type": "code",
   "execution_count": 129,
   "metadata": {},
   "outputs": [],
   "source": [
    "populacao_brasilia = 3039444\n",
    "#carros_brasilia = 1712481\n",
    "carros_mes = 200000000\n",
    "carros_semana = carros_mes / 28 * 7\n",
    "carros_fds = carros_semana * 5 / 100\n",
    "carros_dia_de_semana = carros_semana * 18 / 100\n",
    "\n",
    "pessoas_fds = carros_fds * 1.5\n",
    "pessoas_dia_de_semana = carros_dia_de_semana * 1.5"
   ]
  },
  {
   "cell_type": "code",
   "execution_count": 130,
   "metadata": {},
   "outputs": [],
   "source": [
    "for key in range(len(week_days)):\n",
    "    random_delay_mult = random.randint(1,4)\n",
    "    i = 0\n",
    "\n",
    "    for hour in range(0, 24):\n",
    "        for minute in range(0, 60, 15):\n",
    "            if (week_days[key] != 'sunday') and (week_days[key] != 'saturday'):    \n",
    "                if (hour == 10 and minute == 0): #reset index\n",
    "                    i = 0\n",
    "                    random_delay_mult = random.randint(1,4)\n",
    "\n",
    "                if (hour >= 6 and hour <= 9) or (hour >= 16 and hour <= 19): #rush hour\n",
    "                    delay = 30 * random_delay_mult * sin_distribution[i]\n",
    "                    num_person = (pessoas_dia_de_semana / 2) * (1/32) #* distribution_person[i] \n",
    "                    i = i + 1\n",
    "                else:\n",
    "                    delay = 0\n",
    "                    num_person = (pessoas_dia_de_semana / 2) * (1/64)\n",
    "            else:\n",
    "                delay = 0\n",
    "                if (hour >= 20 or hour <= 10):\n",
    "                    num_person = pessoas_fds * 0.25 * (1/(15*4))\n",
    "                else:\n",
    "                    num_person = pessoas_fds * 0.75 * (1/(9*4))\n",
    "            row = {'week_key': key, 'week_day': week_days[key], 'time': datetime.time(hour, minute), 'mean_delay_time': delay, 'mean_person' : num_person}\n",
    "            mean_traffic = mean_traffic.append([row])"
   ]
  },
  {
   "cell_type": "code",
   "execution_count": 116,
   "metadata": {},
   "outputs": [],
   "source": [
    "mean_traffic.to_csv('mean_traffic.csv', sep = '\\t', encoding = 'utf-8')"
   ]
  },
  {
   "cell_type": "code",
   "execution_count": 133,
   "metadata": {},
   "outputs": [
    {
     "name": "stdout",
     "output_type": "stream",
     "text": [
      "<class 'pandas.core.frame.DataFrame'>\n",
      "Int64Index: 672 entries, 0 to 0\n",
      "Data columns (total 5 columns):\n",
      "week_key           672 non-null object\n",
      "week_day           672 non-null object\n",
      "time               672 non-null object\n",
      "mean_delay_time    672 non-null object\n",
      "mean_person        672 non-null float64\n",
      "dtypes: float64(1), object(4)\n",
      "memory usage: 31.5+ KB\n"
     ]
    }
   ],
   "source": [
    "mean_traffic.info()"
   ]
  },
  {
   "cell_type": "code",
   "execution_count": null,
   "metadata": {},
   "outputs": [],
   "source": []
  }
 ],
 "metadata": {
  "kernelspec": {
   "display_name": "Python 3",
   "language": "python",
   "name": "python3"
  },
  "language_info": {
   "codemirror_mode": {
    "name": "ipython",
    "version": 3
   },
   "file_extension": ".py",
   "mimetype": "text/x-python",
   "name": "python",
   "nbconvert_exporter": "python",
   "pygments_lexer": "ipython3",
   "version": "3.5.5"
  }
 },
 "nbformat": 4,
 "nbformat_minor": 2
}
