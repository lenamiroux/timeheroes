{
 "cells": [
  {
   "cell_type": "code",
   "execution_count": 165,
   "metadata": {},
   "outputs": [],
   "source": [
    "import pandas as pd\n",
    "import math\n",
    "import random\n",
    "import numpy as np\n",
    "import datetime"
   ]
  },
  {
   "cell_type": "code",
   "execution_count": 166,
   "metadata": {},
   "outputs": [],
   "source": [
    "mean_traffic = pd.DataFrame(columns = ['week_key', 'week_day', 'time', 'mean_delay_time', 'mean_person'])"
   ]
  },
  {
   "cell_type": "code",
   "execution_count": 167,
   "metadata": {},
   "outputs": [],
   "source": [
    "sin_distribution = []\n",
    "for x in range(0, 16, 1):\n",
    "    sin_distribution.append(math.sin(x / 16 * math.pi))"
   ]
  },
  {
   "cell_type": "code",
   "execution_count": 168,
   "metadata": {},
   "outputs": [],
   "source": [
    "distribution_person = np.array([0.5, 1, 2, 4, 5, 7.5, 10, 20, 20, 10, 7.5, 5, 4, 2, 1, 0.5]) / 100"
   ]
  },
  {
   "cell_type": "code",
   "execution_count": 169,
   "metadata": {},
   "outputs": [],
   "source": [
    "week_days = ['sunday', 'monday', 'tuesday', 'wednesday', 'thursday', 'friday', 'saturday']"
   ]
  },
  {
   "cell_type": "code",
   "execution_count": 170,
   "metadata": {},
   "outputs": [],
   "source": [
    "populacao_brasilia = 3039444\n",
    "#carros_brasilia = 1712481\n",
    "carros_mes = 200000000\n",
    "carros_semana = carros_mes / 28 * 7\n",
    "carros_fds = carros_semana * 5 / 100\n",
    "carros_dia_de_semana = carros_semana * 18 / 100\n",
    "\n",
    "pessoas_fds = carros_fds * 1.5\n",
    "pessoas_dia_de_semana = carros_dia_de_semana * 1.5"
   ]
  },
  {
   "cell_type": "code",
   "execution_count": 163,
   "metadata": {},
   "outputs": [],
   "source": [
    "for key in range(len(week_days)):\n",
    "    random_delay_mult = random.randint(1,4)\n",
    "    i = 0\n",
    "\n",
    "    for hour in range(0, 24):\n",
    "        for minute in range(0, 60, 15):\n",
    "            if (week_days[key] != 'sunday') and (week_days[key] != 'saturday'):    \n",
    "                if (hour == 10 and minute == 0): #reset index\n",
    "                    i = 0\n",
    "                    random_delay_mult = random.randint(1,4)\n",
    "\n",
    "                if (hour >= 6 and hour <= 9) or (hour >= 16 and hour <= 19): #rush hour\n",
    "                    delay = 30 * random_delay_mult * sin_distribution[i]\n",
    "                    num_person = (pessoas_dia_de_semana / 2) * (1/32) * (random.randint(90,110) / 100) #* distribution_person[i] \n",
    "                    i = i + 1\n",
    "                else:\n",
    "                    delay = 15 * random.randint(1,100) / 100\n",
    "                    num_person = (pessoas_dia_de_semana / 2) * (1/64) * (random.randint(90,110) / 100)\n",
    "            else:\n",
    "                delay = 15 * random.randint(1,100) / 100\n",
    "                if (hour >= 20 or hour <= 10):\n",
    "                    num_person = pessoas_fds * 0.25 * (1/(15*4)) * (random.randint(90,110) / 100)\n",
    "                else:\n",
    "                    num_person = pessoas_fds * 0.75 * (1/(9*4)) * (random.randint(90,110) / 100)\n",
    "            row = {'week_key': key, 'week_day': week_days[key], 'time': datetime.time(hour, minute), 'mean_delay_time': delay, 'mean_person' : num_person}\n",
    "            mean_traffic = mean_traffic.append([row])"
   ]
  },
  {
   "cell_type": "code",
   "execution_count": 164,
   "metadata": {},
   "outputs": [],
   "source": [
    "mean_traffic.to_csv('mean_traffic.csv', sep = '\\t', encoding = 'utf-8', index = False)"
   ]
  },
  {
   "cell_type": "code",
   "execution_count": null,
   "metadata": {},
   "outputs": [],
   "source": []
  }
 ],
 "metadata": {
  "kernelspec": {
   "display_name": "Python 3",
   "language": "python",
   "name": "python3"
  },
  "language_info": {
   "codemirror_mode": {
    "name": "ipython",
    "version": 3
   },
   "file_extension": ".py",
   "mimetype": "text/x-python",
   "name": "python",
   "nbconvert_exporter": "python",
   "pygments_lexer": "ipython3",
   "version": "3.5.5"
  }
 },
 "nbformat": 4,
 "nbformat_minor": 2
}
